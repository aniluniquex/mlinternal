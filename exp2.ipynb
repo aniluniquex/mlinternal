{
 "cells": [
  {
   "cell_type": "code",
   "execution_count": 8,
   "metadata": {},
   "outputs": [
    {
     "name": "stdout",
     "output_type": "stream",
     "text": [
      "The mean values is : 3\n"
     ]
    }
   ],
   "source": [
    "import statistics as p\n",
    "list = [1, 2, 3,3,4,5,]\n",
    "print (\"The mean values is : \",end=\"\")\n",
    "print(p.mean(list))"
   ]
  },
  {
   "cell_type": "code",
   "execution_count": 9,
   "metadata": {},
   "outputs": [
    {
     "data": {
      "text/plain": [
       "1.4500000000000002"
      ]
     },
     "execution_count": 9,
     "metadata": {},
     "output_type": "execute_result"
    }
   ],
   "source": [
    "import numpy as np\n",
    "def expected_value(values, weights):\n",
    "    values = np.asarray(values)\n",
    "    weights = np.asarray(weights)\n",
    "    return (values * weights).sum() / weights.sum()\n",
    "values = [0, 1, 2, 3, 4]\n",
    "probs = [.18, .34, .35, .11, .02]\n",
    "expected_value(values, probs)"
   ]
  },
  {
   "cell_type": "code",
   "execution_count": 10,
   "metadata": {},
   "outputs": [
    {
     "name": "stdout",
     "output_type": "stream",
     "text": [
      "mean:  2.5\n",
      "std:  1.118033988749895\n",
      "variance:  1.25\n",
      "co-variance:  1.6666666666666665\n"
     ]
    }
   ],
   "source": [
    "import numpy as np\n",
    "a = np.array([1, 2, 3, 4])\n",
    "b=np.mean(a)\n",
    "print(\"mean: \",b)\n",
    "c=np.std(a)\n",
    "print(\"std: \",c)\n",
    "d=np.var(a)\n",
    "print(\"variance: \",d)\n",
    "e=np.cov(a)\n",
    "print(\"co-variance: \",e)"
   ]
  },
  {
   "cell_type": "code",
   "execution_count": 11,
   "metadata": {},
   "outputs": [
    {
     "name": "stdout",
     "output_type": "stream",
     "text": [
      "\n",
      "Covariance matrix :\n",
      " [[0.5 1.5]\n",
      " [1.5 4.5]]\n"
     ]
    }
   ],
   "source": [
    "array1 = np.array([3, 2])\n",
    "array2 = np.array([7, 4])\n",
    "\n",
    "print(\"\\nCovariance matrix :\\n\",\n",
    "np.cov(array1, array2))\n"
   ]
  }
 ],
 "metadata": {
  "kernelspec": {
   "display_name": "Python 3",
   "language": "python",
   "name": "python3"
  },
  "language_info": {
   "codemirror_mode": {
    "name": "ipython",
    "version": 3
   },
   "file_extension": ".py",
   "mimetype": "text/x-python",
   "name": "python",
   "nbconvert_exporter": "python",
   "pygments_lexer": "ipython3",
   "version": "3.11.9"
  }
 },
 "nbformat": 4,
 "nbformat_minor": 2
}
